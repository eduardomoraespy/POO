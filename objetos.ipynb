{
  "nbformat": 4,
  "nbformat_minor": 0,
  "metadata": {
    "colab": {
      "name": "objetos.ipynb",
      "provenance": [],
      "authorship_tag": "ABX9TyNgHHRmeKblqD1u6BwiIIGE"
    },
    "kernelspec": {
      "name": "python3",
      "display_name": "Python 3"
    },
    "language_info": {
      "name": "python"
    }
  },
  "cells": [
    {
      "cell_type": "markdown",
      "metadata": {
        "id": "HOqJ7-bPGqYX"
      },
      "source": [
        "# Objetos"
      ]
    },
    {
      "cell_type": "markdown",
      "metadata": {
        "id": "pujfqProGxuM"
      },
      "source": [
        "<p>\n",
        "<b>Tudo em python é objeto!</b>\n",
        "</p>"
      ]
    },
    {
      "cell_type": "code",
      "metadata": {
        "id": "-lqyyCBzFkzc"
      },
      "source": [
        "lista_aeronves = ['Bonanza', 'Piper', 'Cirrus', 'Phenon']"
      ],
      "execution_count": 2,
      "outputs": []
    },
    {
      "cell_type": "code",
      "metadata": {
        "colab": {
          "base_uri": "https://localhost:8080/"
        },
        "id": "84ei-RMTHeIk",
        "outputId": "2200b371-3b41-4724-d9ad-a99be7d996e1"
      },
      "source": [
        "# A lista lista_aeronves é um objeto, uma instância da classe lista em Python\n",
        "type(lista_aeronves)"
      ],
      "execution_count": 4,
      "outputs": [
        {
          "output_type": "execute_result",
          "data": {
            "text/plain": [
              "list"
            ]
          },
          "metadata": {
            "tags": []
          },
          "execution_count": 4
        }
      ]
    },
    {
      "cell_type": "code",
      "metadata": {
        "colab": {
          "base_uri": "https://localhost:8080/"
        },
        "id": "roEFbV_jH6qj",
        "outputId": "3c6b3d51-3792-4083-d945-69313ef7f38f"
      },
      "source": [
        "# Usamos a função type, para verificar o tipo de um objeto\n",
        "print(type(10))\n",
        "print(type([]))\n",
        "print(type(()))\n",
        "print(type({}))\n",
        "print(type('a'))\n",
        "print(type(True))\n"
      ],
      "execution_count": 9,
      "outputs": [
        {
          "output_type": "stream",
          "text": [
            "<class 'int'>\n",
            "<class 'list'>\n",
            "<class 'tuple'>\n",
            "<class 'dict'>\n",
            "<class 'str'>\n",
            "<class 'bool'>\n"
          ],
          "name": "stdout"
        }
      ]
    },
    {
      "cell_type": "code",
      "metadata": {
        "colab": {
          "base_uri": "https://localhost:8080/"
        },
        "id": "MnMK5XTFIkMs",
        "outputId": "af15b3b2-b215-4cb5-fb72-55c955c9f19e"
      },
      "source": [
        "# Criando um novo tipo de objeto chamado Aviao\n",
        "\n",
        "class Aviao(object):\n",
        "  pass\n",
        "\n",
        "# Instânciando Avião\n",
        "phenon300 = Aviao()\n",
        "\n",
        "print(type(a320))"
      ],
      "execution_count": 10,
      "outputs": [
        {
          "output_type": "stream",
          "text": [
            "<class '__main__.Aviao'>\n"
          ],
          "name": "stdout"
        }
      ]
    },
    {
      "cell_type": "code",
      "metadata": {
        "id": "ZvBP5-ykJuaM"
      },
      "source": [
        "# Criando classe Revisao_´por_horas\n",
        "\n",
        "class Revisao_por_horas:\n",
        "  def __init__(self, n_horas, modelo):\n",
        "    self.n_horas = n_horas\n",
        "    self.modelo = modelo\n",
        "  \n",
        "  def manutencao(self):\n",
        "    if self.n_horas >=50:\n",
        "      return 'Manutenção de 50h'\n",
        "    elif self.n_horas >= 100:\n",
        "      return 'Manutenção de 100h'\n",
        "\n"
      ],
      "execution_count": 17,
      "outputs": []
    },
    {
      "cell_type": "code",
      "metadata": {
        "id": "ry_9nPx8PlYi"
      },
      "source": [
        "# Criando um objeto prog_manuten a partir da classe Revisao_por_horas\n",
        "prog_manuten = Revisao_por_horas(55, 'Lerjet') "
      ],
      "execution_count": 29,
      "outputs": []
    },
    {
      "cell_type": "code",
      "metadata": {
        "colab": {
          "base_uri": "https://localhost:8080/",
          "height": 35
        },
        "id": "5NvuxMx0QOjv",
        "outputId": "480461a7-b7ac-4eb8-f6f4-9f658dcf0142"
      },
      "source": [
        "# Usando método da classe\n",
        "prog_manuten.manutencao()"
      ],
      "execution_count": 30,
      "outputs": [
        {
          "output_type": "execute_result",
          "data": {
            "application/vnd.google.colaboratory.intrinsic+json": {
              "type": "string"
            },
            "text/plain": [
              "'Manutenção de 50h'"
            ]
          },
          "metadata": {
            "tags": []
          },
          "execution_count": 30
        }
      ]
    },
    {
      "cell_type": "markdown",
      "metadata": {
        "id": "_L0X3aRATT9n"
      },
      "source": [
        "\n",
        "# <p>\n",
        "Funções especiais para manipular atributo do objeto.\n",
        "</p>"
      ]
    },
    {
      "cell_type": "code",
      "metadata": {
        "colab": {
          "base_uri": "https://localhost:8080/"
        },
        "id": "p-liPYHgTSRS",
        "outputId": "54a72f50-2c50-4985-93b4-1eaa37cbfad5"
      },
      "source": [
        "# O hasattr está verificando se tem o atributo, ou seja, o objeto prog_manuten tem o atributo n_horas?\n",
        "\n",
        "hasattr(prog_manuten, \"n_horas\")"
      ],
      "execution_count": 31,
      "outputs": [
        {
          "output_type": "execute_result",
          "data": {
            "text/plain": [
              "True"
            ]
          },
          "metadata": {
            "tags": []
          },
          "execution_count": 31
        }
      ]
    },
    {
      "cell_type": "code",
      "metadata": {
        "id": "NKccT9gCURWC"
      },
      "source": [
        "# setattr é para configurar o atributo, ou seja, verificando se o objeto prog_manuten tem o atributo n_horas e atribuindo 70 horas.\n",
        " \n",
        "setattr(prog_manuten, \"n_horas\", 70)"
      ],
      "execution_count": 32,
      "outputs": []
    },
    {
      "cell_type": "code",
      "metadata": {
        "colab": {
          "base_uri": "https://localhost:8080/"
        },
        "id": "3AdA3dkJVS5U",
        "outputId": "0f51eca4-a803-471e-d80b-6e60eefd3bff"
      },
      "source": [
        "# Verificando novamente\n",
        "\n",
        "hasattr(prog_manuten, \"n_horas\")"
      ],
      "execution_count": 33,
      "outputs": [
        {
          "output_type": "execute_result",
          "data": {
            "text/plain": [
              "True"
            ]
          },
          "metadata": {
            "tags": []
          },
          "execution_count": 33
        }
      ]
    },
    {
      "cell_type": "code",
      "metadata": {
        "colab": {
          "base_uri": "https://localhost:8080/"
        },
        "id": "FtjCIkN2VZZH",
        "outputId": "d4c0bd74-f919-4da6-f3a1-3d590fce920d"
      },
      "source": [
        "# getattr é para pegar/obter o atributo n_horas apartir do objeto prog_manuten\n",
        "\n",
        "getattr(prog_manuten, 'n_horas')"
      ],
      "execution_count": 34,
      "outputs": [
        {
          "output_type": "execute_result",
          "data": {
            "text/plain": [
              "70"
            ]
          },
          "metadata": {
            "tags": []
          },
          "execution_count": 34
        }
      ]
    },
    {
      "cell_type": "code",
      "metadata": {
        "id": "PoyOcXp7WA9a"
      },
      "source": [
        "# delattr é para deletar o objeto\n",
        "\n",
        "delattr(prog_manuten, 'n_horas')"
      ],
      "execution_count": 35,
      "outputs": []
    },
    {
      "cell_type": "code",
      "metadata": {
        "colab": {
          "base_uri": "https://localhost:8080/"
        },
        "id": "RuCqvWWjWYkE",
        "outputId": "23d1897d-6751-4047-b451-4170000bd553"
      },
      "source": [
        "# Verificando se existe o objeto, se o resultado for True não foi deletado e False foi deletado\n",
        "\n",
        "hasattr(prog_manuten, 'n_horas')"
      ],
      "execution_count": 36,
      "outputs": [
        {
          "output_type": "execute_result",
          "data": {
            "text/plain": [
              "False"
            ]
          },
          "metadata": {
            "tags": []
          },
          "execution_count": 36
        }
      ]
    }
  ]
}