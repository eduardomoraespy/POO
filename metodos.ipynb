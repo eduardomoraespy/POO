{
  "nbformat": 4,
  "nbformat_minor": 0,
  "metadata": {
    "colab": {
      "name": "metodos.ipynb",
      "provenance": [],
      "authorship_tag": "ABX9TyOeNRr/7wjp4uAjJi537Fld"
    },
    "kernelspec": {
      "name": "python3",
      "display_name": "Python 3"
    },
    "language_info": {
      "name": "python"
    }
  },
  "cells": [
    {
      "cell_type": "markdown",
      "metadata": {
        "id": "nY3lDj24G1dd"
      },
      "source": [
        "<p>\n",
        "Métodos são funções definidas dentro do corpo de uma classe.\n",
        "\n",
        "</p>"
      ]
    },
    {
      "cell_type": "markdown",
      "metadata": {
        "id": "8bKFuT5nHKqO"
      },
      "source": [
        "<p>\n",
        "Eles são usados para realizar operações com os atributos dos nossos objetos.\n",
        "</p>\n"
      ]
    },
    {
      "cell_type": "markdown",
      "metadata": {
        "id": "xM9JxA-hHSuF"
      },
      "source": [
        "<p>\n",
        "Métodos são usados no conceito de encapsulamento, do paradigma de programação orientada a objetos.\n",
        "\n",
        "</p>"
      ]
    },
    {
      "cell_type": "markdown",
      "metadata": {
        "id": "hDyV3gW4Hcrj"
      },
      "source": [
        "<p>\n",
        "Métodos são basicamente funções definidas dentro de uma classe, para manipular os objetos criados a partir da classe.\n",
        "</p>"
      ]
    },
    {
      "cell_type": "markdown",
      "metadata": {
        "id": "Y7YLN2KyHjBv"
      },
      "source": [
        "<p>\n",
        "Utiliza-se a palavra reservada def para criar métodos, da mesma forma que se cria funções.\n",
        "</p>"
      ]
    },
    {
      "cell_type": "markdown",
      "metadata": {
        "id": "4UyggtEAHoiH"
      },
      "source": [
        "<p>\n",
        "Podemos criar classes para nossas atividades de análise de dados e criar métodos específicos para cada tarefa, encapsulando nossa lógica de programação.\n",
        "</p>"
      ]
    },
    {
      "cell_type": "code",
      "metadata": {
        "id": "L90d3cfj-QZ0"
      },
      "source": [
        "# Criando classe chamada Circulo\n",
        "class Circulo():\n",
        "\n",
        "  # Definindo valor contante de pi\n",
        "  pi = 3.14\n",
        "\n",
        "  # # Quando um objeto desta classe for criado, este método será executado e o valor default do raio será 10.\n",
        "  def __init__(self, raio = 10):\n",
        "    self.raio = raio\n",
        "\n",
        "  # Método para calcular área. Self utiliza os atributos deste mesmo objeto\n",
        "  def area(self):\n",
        "    resultado = (self.raio * self.raio) * Circulo.pi\n",
        "    return resultado\n",
        "\n",
        "  # Método para gerar novo raio\n",
        "  def setRaio(self, novo_raio):\n",
        "    self.raio = novo_raio\n",
        "\n",
        "  # Método para obter o raio do Circulo\n",
        "  def getRaio(self):\n",
        "    return self.raio"
      ],
      "execution_count": 6,
      "outputs": []
    },
    {
      "cell_type": "code",
      "metadata": {
        "id": "4Z4XMKtUn8Bl"
      },
      "source": [
        "# Criando o objeto circ que recebe uma instância da classe Circulo()\n",
        "circ = Circulo() "
      ],
      "execution_count": 7,
      "outputs": []
    },
    {
      "cell_type": "code",
      "metadata": {
        "colab": {
          "base_uri": "https://localhost:8080/"
        },
        "id": "6RKou6Jooi-4",
        "outputId": "c130cf82-1da0-4ec2-b3a3-62117cb34a83"
      },
      "source": [
        "# Executando um método da classe Circulo\n",
        "circ.getRaio()"
      ],
      "execution_count": 8,
      "outputs": [
        {
          "output_type": "execute_result",
          "data": {
            "text/plain": [
              "10"
            ]
          },
          "metadata": {
            "tags": []
          },
          "execution_count": 8
        }
      ]
    },
    {
      "cell_type": "code",
      "metadata": {
        "id": "kWj70Ui4o54V"
      },
      "source": [
        "# Criando outro objeto chamado circ1 que recebe Uma instância da classe Circulo()\n",
        "# Agora sobrescrevendo o valor do atributo\n",
        "circ1 = Circulo(3)"
      ],
      "execution_count": 16,
      "outputs": []
    },
    {
      "cell_type": "code",
      "metadata": {
        "colab": {
          "base_uri": "https://localhost:8080/"
        },
        "id": "qP-IBf2lpjqe",
        "outputId": "4c927f2b-b361-472a-a11d-91a001163ac4"
      },
      "source": [
        "# Executando um método da classe Circulo\n",
        "circ1.getRaio()"
      ],
      "execution_count": 17,
      "outputs": [
        {
          "output_type": "execute_result",
          "data": {
            "text/plain": [
              "3"
            ]
          },
          "metadata": {
            "tags": []
          },
          "execution_count": 17
        }
      ]
    },
    {
      "cell_type": "code",
      "metadata": {
        "colab": {
          "base_uri": "https://localhost:8080/"
        },
        "id": "qwNTfM0vp-61",
        "outputId": "f504d95c-d7b9-4d70-ac6a-9fa343752b11"
      },
      "source": [
        "# Imprimindo a area\n",
        "print(f'O raio é: {circ1.area()}')"
      ],
      "execution_count": 18,
      "outputs": [
        {
          "output_type": "stream",
          "text": [
            "O raio é: 28.26\n"
          ],
          "name": "stdout"
        }
      ]
    },
    {
      "cell_type": "code",
      "metadata": {
        "id": "PrVgs7_ZqeMo"
      },
      "source": [
        "# Gerando um novo valor para o raio do círculo\n",
        "circ.setRaio(6)"
      ],
      "execution_count": 23,
      "outputs": []
    },
    {
      "cell_type": "code",
      "metadata": {
        "colab": {
          "base_uri": "https://localhost:8080/"
        },
        "id": "iL1EBvU2rBm4",
        "outputId": "822a45cb-8107-4529-98eb-739f0150c5a8"
      },
      "source": [
        "# Imprimindo o novo raio\n",
        "print(f'Novo raio igual a: {circ.getRaio()}')"
      ],
      "execution_count": 24,
      "outputs": [
        {
          "output_type": "stream",
          "text": [
            "Novo raio igual a: 6\n"
          ],
          "name": "stdout"
        }
      ]
    }
  ]
}