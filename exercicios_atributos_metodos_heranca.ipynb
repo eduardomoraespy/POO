{
  "nbformat": 4,
  "nbformat_minor": 0,
  "metadata": {
    "colab": {
      "name": "exercicios-atributos-metodos-heranca.ipynb",
      "provenance": [],
      "authorship_tag": "ABX9TyOr7+4z6dyq/arfwxxdEiiT"
    },
    "kernelspec": {
      "name": "python3",
      "display_name": "Python 3"
    },
    "language_info": {
      "name": "python"
    }
  },
  "cells": [
    {
      "cell_type": "code",
      "execution_count": 1,
      "metadata": {
        "id": "Wnu5FVcSMiqO"
      },
      "outputs": [],
      "source": [
        "# Exercício 1 - Crie um objeto a partir da classe abaixo, chamado roc1, passando 2 parâmetros e depois faça uma chamada\n",
        "# aos atributos e métodos\n",
        "\n",
        "\n",
        "class Rocket():\n",
        "     \n",
        "  def __init__(self, x=0, y=0):\n",
        "    self.x = x\n",
        "    self.y = y\n",
        "      \n",
        "  def move_rocket(self, x_increment=0, y_increment=1):\n",
        "    self.x += x_increment\n",
        "    self.y += y_increment\n",
        "      \n",
        "  def print_rocket(self):\n",
        "    print(self.x, self.y)"
      ]
    },
    {
      "cell_type": "code",
      "source": [
        "roc1 = Rocket(2, 4)\n",
        "\n",
        "roc1.x\n",
        "roc1.y\n",
        "\n",
        "roc1.move_rocket(10,30)\n",
        "\n",
        "roc1.print_rocket()"
      ],
      "metadata": {
        "colab": {
          "base_uri": "https://localhost:8080/"
        },
        "id": "_Q5ZcYEvNQG4",
        "outputId": "154ba031-c0b0-48c2-d4d0-9bf19582eb49"
      },
      "execution_count": 2,
      "outputs": [
        {
          "output_type": "stream",
          "name": "stdout",
          "text": [
            "12 34\n"
          ]
        }
      ]
    },
    {
      "cell_type": "code",
      "source": [
        "# Exercício 2 - Crie uma classe chamada Pessoa() com os atributos: nome, cidade, telefone e e-mail. Use pelo menos 2\n",
        "# métodos especiais na sua classe. Crie um objeto da sua classe e faça uma chamada a pelo menos um dos seus métodos\n",
        "# especiais.\n",
        "\n",
        "class Pessoa():\n",
        "    \n",
        "  def __init__(self, nome, cidade, telefone, email):\n",
        "    self.nome = nome\n",
        "    self.cidade = cidade\n",
        "    self.telefone = telefone\n",
        "    self.email = email\n",
        "      \n",
        "  def __str__(self):\n",
        "    return f'Novo usuário com Nome: {self.nome} e E-mail: {self.email}'"
      ],
      "metadata": {
        "id": "zTdfg_EGNS2o"
      },
      "execution_count": 7,
      "outputs": []
    },
    {
      "cell_type": "code",
      "source": [
        "pessoa1= Pessoa('Jorge', 'Rio Grande do Sul', 99999999, 'teste@gmail.com')\n",
        "\n",
        "str(pessoa1)"
      ],
      "metadata": {
        "colab": {
          "base_uri": "https://localhost:8080/",
          "height": 35
        },
        "id": "vu1yU_D5Nfx4",
        "outputId": "e5b23b0a-956c-4a87-92c4-dbfeb0272427"
      },
      "execution_count": 8,
      "outputs": [
        {
          "output_type": "execute_result",
          "data": {
            "application/vnd.google.colaboratory.intrinsic+json": {
              "type": "string"
            },
            "text/plain": [
              "'Novo usuário com Nome: Jorge e E-mail: teste@gmail.com'"
            ]
          },
          "metadata": {},
          "execution_count": 8
        }
      ]
    },
    {
      "cell_type": "code",
      "source": [
        "# Exercício 3 - Crie a classe Smartphone com 2 atributos, tamanho e interface e crie a classe MP3Player com os \n",
        "# atributos capacidade. A classe MP3player deve herdar os atributos da classe Smartphone.\n",
        "\n",
        "class Smartphone():\n",
        "    \n",
        "  def __init__(self, tamanho, interface):\n",
        "    self.tamanho = tamanho\n",
        "    self.interface = interface\n",
        "\n",
        "\n",
        "class MP3Player(Smartphone):\n",
        "    \n",
        "  def __init__(self, capacidade, tamanho='Grande', interface='Touch'):\n",
        "    self.capacidade = capacidade\n",
        "    Smartphone.__init__(self, tamanho, interface)\n",
        "      \n",
        "  def ficha(self):\n",
        "    print(f'Ficha Técnica - Tamanho: {self.tamanho} - Capacidade: {self.capacidade} - Interface: {self.interface}')"
      ],
      "metadata": {
        "id": "W_c3uqsFOAYS"
      },
      "execution_count": 11,
      "outputs": []
    },
    {
      "cell_type": "code",
      "source": [
        "fichatecnica1 = MP3Player('1 TB')\n",
        "fichatecnica1.ficha()"
      ],
      "metadata": {
        "colab": {
          "base_uri": "https://localhost:8080/"
        },
        "id": "guRKzf1DOOzB",
        "outputId": "891db1ea-e3fa-410a-fe84-eb86729757f6"
      },
      "execution_count": 12,
      "outputs": [
        {
          "output_type": "stream",
          "name": "stdout",
          "text": [
            "Ficha Técnica - Tamanho: Grande - Capacidade: 1 TB - Interface: Touch\n"
          ]
        }
      ]
    }
  ]
}