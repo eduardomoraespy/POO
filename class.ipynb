{
  "nbformat": 4,
  "nbformat_minor": 0,
  "metadata": {
    "colab": {
      "name": "class.ipynb",
      "provenance": [],
      "authorship_tag": "ABX9TyOuxjysQ9x1324CXUhQ9IzB"
    },
    "kernelspec": {
      "name": "python3",
      "display_name": "Python 3"
    },
    "language_info": {
      "name": "python"
    }
  },
  "cells": [
    {
      "cell_type": "markdown",
      "metadata": {
        "id": "sNzH9X1P2faw"
      },
      "source": [
        "## Classe\n",
        "\n"
      ]
    },
    {
      "cell_type": "markdown",
      "metadata": {
        "id": "DWWwkm1S2mDp"
      },
      "source": [
        "<p>\n",
        "A <b>classe</b> é a estrutura básica do paradigma de <b>orientação a objetos</b>, que representa o tipo do <b>objeto</b>, um modelo a partir do qual os objetos serão criados.\n",
        "\n",
        "Uma classe é apenas um <b>molde</b>. Uma especificação que define o que um objeto desse tipo deverá ter como atributo e como ele deve se comportar.\n",
        "\n",
        "Por convenção, o nome de uma classe começa com <b>letra maiúscula.</b>\n",
        "\n",
        "</p>"
      ]
    },
    {
      "cell_type": "code",
      "metadata": {
        "id": "RpafbZYo1E4-"
      },
      "source": [
        "class Aviao:\n",
        "\n",
        "  # Este método vai inicializar cada objeto criado a partir desta classe\n",
        "  # O nome deste método é __init__\n",
        "  # (self) é uma referência a cada atributo de um objeto criado a partir desta classe\n",
        "  def __init__(self):\n",
        "\n",
        "    # Atributos de cada objeto criado a partir desta classe. \n",
        "    # O self indica que estes são atributos dos objetos\n",
        "    self.modelo = 'Cessna'\n",
        "    self.ano = 1978\n",
        "    self.motor = 'Continental O-300'\n",
        "    print(\"Construtor chamado para criar um objeto desta classe\")\n",
        "        \n",
        "  # Métodos são funções, que recebem como parâmetro atributos do objeto criado \n",
        "  def imprime(self):\n",
        "    print(f'Foi cadastrado a Aeronave com seu:\\n modelo: {self.modelo}\\n Ano: {self.ano}\\n Motor: {self.motor}')\n"
      ],
      "execution_count": 28,
      "outputs": []
    },
    {
      "cell_type": "code",
      "metadata": {
        "colab": {
          "base_uri": "https://localhost:8080/"
        },
        "id": "eN-kiO8aHtdZ",
        "outputId": "242f06ba-5b56-45c2-b7ea-4bb915d4523f"
      },
      "source": [
        "aviao1 = Aviao()"
      ],
      "execution_count": 29,
      "outputs": [
        {
          "output_type": "stream",
          "text": [
            "Construtor chamado para criar um objeto desta classe\n"
          ],
          "name": "stdout"
        }
      ]
    },
    {
      "cell_type": "code",
      "metadata": {
        "colab": {
          "base_uri": "https://localhost:8080/"
        },
        "id": "h86scMr1IBLK",
        "outputId": "9576e569-8fa3-4405-c896-4c08e20d68ca"
      },
      "source": [
        "# Tipo do objeto aeronave1\n",
        "type(aviao1)"
      ],
      "execution_count": 30,
      "outputs": [
        {
          "output_type": "execute_result",
          "data": {
            "text/plain": [
              "__main__.Aviao"
            ]
          },
          "metadata": {
            "tags": []
          },
          "execution_count": 30
        }
      ]
    },
    {
      "cell_type": "code",
      "metadata": {
        "colab": {
          "base_uri": "https://localhost:8080/",
          "height": 35
        },
        "id": "tORkTqU2IIBG",
        "outputId": "98f30d2a-25c8-444f-9bbc-5a6c6032f29a"
      },
      "source": [
        "# Atributo do objeto aeronave1\n",
        "aviao1.modelo"
      ],
      "execution_count": 31,
      "outputs": [
        {
          "output_type": "execute_result",
          "data": {
            "application/vnd.google.colaboratory.intrinsic+json": {
              "type": "string"
            },
            "text/plain": [
              "'Cessna'"
            ]
          },
          "metadata": {
            "tags": []
          },
          "execution_count": 31
        }
      ]
    },
    {
      "cell_type": "code",
      "metadata": {
        "colab": {
          "base_uri": "https://localhost:8080/"
        },
        "id": "fvZ5RgxOIbv0",
        "outputId": "a7fe459f-6230-4266-e5a1-fcb58563487e"
      },
      "source": [
        "# Metódo do objeto aeronave1\n",
        "aviao1.imprime()"
      ],
      "execution_count": 32,
      "outputs": [
        {
          "output_type": "stream",
          "text": [
            "Foi cadastrado a Aeronave com seu:\n",
            " modelo: Cessna\n",
            " Ano: 1978\n",
            " Motor: Continental O-300\n"
          ],
          "name": "stdout"
        }
      ]
    },
    {
      "cell_type": "code",
      "metadata": {
        "id": "q64UskHLJ5LM"
      },
      "source": [
        "# Criando classe Helicoptero com parâmetro no método construtor\n",
        "class Helicoptero:\n",
        "  def __init__(self, modelo, ano, lugares):\n",
        "    self.modelo = modelo\n",
        "    self.ano = ano\n",
        "    self.lugares = lugares\n",
        "    print(\"Construtor chamado para criar um objeto desta classe\")\n",
        "\n",
        "  def imprime(self):\n",
        "    print(f'Foi cadastrado o Helicoptero:\\n Modelo: {self.modelo}\\n Ano: {self.ano}\\n Lugares: {self.lugares}') \n"
      ],
      "execution_count": 33,
      "outputs": []
    },
    {
      "cell_type": "code",
      "metadata": {
        "colab": {
          "base_uri": "https://localhost:8080/"
        },
        "id": "XNdN3rxsLarf",
        "outputId": "cdc8ee2c-a13b-4e2d-e84f-a0b19828aa75"
      },
      "source": [
        "# Criando o objeto helicoptero1 que é uma instância da classe Helicoptero.\n",
        "helicoptero1 = Helicoptero('robinson r44', 1997, 4)"
      ],
      "execution_count": 34,
      "outputs": [
        {
          "output_type": "stream",
          "text": [
            "Construtor chamado para criar um objeto desta classe\n"
          ],
          "name": "stdout"
        }
      ]
    },
    {
      "cell_type": "code",
      "metadata": {
        "colab": {
          "base_uri": "https://localhost:8080/",
          "height": 35
        },
        "id": "n0QvZClFMUwU",
        "outputId": "29d00982-10d4-48bc-f730-39eed5ebae5c"
      },
      "source": [
        "helicoptero1.modelo"
      ],
      "execution_count": 35,
      "outputs": [
        {
          "output_type": "execute_result",
          "data": {
            "application/vnd.google.colaboratory.intrinsic+json": {
              "type": "string"
            },
            "text/plain": [
              "'robinson r44'"
            ]
          },
          "metadata": {
            "tags": []
          },
          "execution_count": 35
        }
      ]
    },
    {
      "cell_type": "code",
      "metadata": {
        "colab": {
          "base_uri": "https://localhost:8080/"
        },
        "id": "z-_CDI9xMm3B",
        "outputId": "b16d4c2f-5a58-4a89-9242-6085c078bf41"
      },
      "source": [
        "# Método do objeto helicoptero1\n",
        "helicoptero1.imprime()"
      ],
      "execution_count": 36,
      "outputs": [
        {
          "output_type": "stream",
          "text": [
            "Foi cadastrado o Helicoptero:\n",
            " Modelo: robinson r44\n",
            " Ano: 1997\n",
            " Lugares: 4\n"
          ],
          "name": "stdout"
        }
      ]
    }
  ]
}