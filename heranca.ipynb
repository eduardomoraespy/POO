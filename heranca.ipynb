{
  "nbformat": 4,
  "nbformat_minor": 0,
  "metadata": {
    "colab": {
      "name": "heranca.ipynb",
      "provenance": [],
      "authorship_tag": "ABX9TyO/f1nq64yrPz7gls2HvQjv"
    },
    "kernelspec": {
      "name": "python3",
      "display_name": "Python 3"
    },
    "language_info": {
      "name": "python"
    }
  },
  "cells": [
    {
      "cell_type": "markdown",
      "metadata": {
        "id": "PxkVHJPXJD2N"
      },
      "source": [
        "<p>\n",
        "Herança é uma forma de gerar novas classes usando classes que foram definidas previamente.\n",
        "\n",
        "</p>"
      ]
    },
    {
      "cell_type": "markdown",
      "metadata": {
        "id": "KW3d1vl_KCGg"
      },
      "source": [
        "<p>\n",
        "Estas novas classes formadas, são chamadas classes derivadas ou subclasses.\n",
        "\n",
        "</p>"
      ]
    },
    {
      "cell_type": "markdown",
      "metadata": {
        "id": "HKZKHXmcKJn3"
      },
      "source": [
        "<p>\n",
        "A classe que deu origem à sub-classe, é chamada de superclasse ou classe base.\n",
        "\n",
        "</p>"
      ]
    },
    {
      "cell_type": "markdown",
      "metadata": {
        "id": "3lie8XsHKQoU"
      },
      "source": [
        "<p>\n",
        "Um dos principais benefícios da herança é a reutilização do código e a redução da complexidade dos programas.\n",
        "</p>"
      ]
    },
    {
      "cell_type": "markdown",
      "metadata": {
        "id": "-jk0Hij3KWBn"
      },
      "source": [
        "<p>\n",
        "As classes derivadas estendem a funcionalidades das classes base.\n",
        "</p>"
      ]
    },
    {
      "cell_type": "code",
      "metadata": {
        "id": "ov6Ksed2Aw5X"
      },
      "source": [
        "# Criando classe Aeronave - super classe\n",
        "class Aeronave():\n",
        "\n",
        "  def __init__(self):\n",
        "    print('Aeronave criada')\n",
        "  \n",
        "  def Identif(self):\n",
        "    print('Táxi Aéreo')\n",
        "\n",
        "  def operacao(self):\n",
        "    print('Transporte de cargas e pessoas')\n"
      ],
      "execution_count": 5,
      "outputs": []
    },
    {
      "cell_type": "code",
      "metadata": {
        "id": "IQWvkIZcEC69"
      },
      "source": [
        "# Criando classe Aviao - sub-classe\n",
        "class Aviao(Aeronave):\n",
        "\n",
        "  def __init__(self):\n",
        "    Aeronave.__init__(self)\n",
        "    print('Objeto Aviao criado')\n",
        "\n",
        "  def Identif(self):\n",
        "    print('Cessna Grand Caravan')\n",
        "\n",
        "  def estado(self):\n",
        "    print('Aeronavegável')"
      ],
      "execution_count": 6,
      "outputs": []
    },
    {
      "cell_type": "code",
      "metadata": {
        "colab": {
          "base_uri": "https://localhost:8080/"
        },
        "id": "lcf54WKDGLo4",
        "outputId": "33ba193b-5837-41ee-b615-b6a588a3efff"
      },
      "source": [
        "# Criando um objeto (Intanciando a classe)\n",
        "acft_1 = Aviao()"
      ],
      "execution_count": 8,
      "outputs": [
        {
          "output_type": "stream",
          "text": [
            "Aeronave criada\n",
            "Objeto Aviao criado\n"
          ],
          "name": "stdout"
        }
      ]
    },
    {
      "cell_type": "code",
      "metadata": {
        "colab": {
          "base_uri": "https://localhost:8080/"
        },
        "id": "Jwy0TyHFG5iO",
        "outputId": "983d8908-dc0d-4aec-e199-3a51532f8565"
      },
      "source": [
        "# Executando o método da classe Aviao (sub-classe)\n",
        "acft_1.Identif()"
      ],
      "execution_count": 10,
      "outputs": [
        {
          "output_type": "stream",
          "text": [
            "Cessna Grand Caravan\n"
          ],
          "name": "stdout"
        }
      ]
    },
    {
      "cell_type": "code",
      "metadata": {
        "colab": {
          "base_uri": "https://localhost:8080/"
        },
        "id": "zlocjiyqHS9r",
        "outputId": "7be2bde6-b7ff-484e-b813-8ea45b20cc9c"
      },
      "source": [
        "# Executando método da classe Aeronave (super-classe)\n",
        "acft_1.operacao()"
      ],
      "execution_count": 11,
      "outputs": [
        {
          "output_type": "stream",
          "text": [
            "Transporte de cargas e pessoas\n"
          ],
          "name": "stdout"
        }
      ]
    },
    {
      "cell_type": "code",
      "metadata": {
        "colab": {
          "base_uri": "https://localhost:8080/"
        },
        "id": "qtLdSKcdHnxJ",
        "outputId": "7d9731bc-4922-42cd-c90c-872cb533c2ef"
      },
      "source": [
        "# Executando método Aviao (sub-classe)\n",
        "acft_1.estado()"
      ],
      "execution_count": 12,
      "outputs": [
        {
          "output_type": "stream",
          "text": [
            "Aeronavegável\n"
          ],
          "name": "stdout"
        }
      ]
    }
  ]
}